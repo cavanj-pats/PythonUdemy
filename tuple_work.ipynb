{
 "cells": [
  {
   "cell_type": "markdown",
   "id": "5f1546c7-55d3-4451-802a-a26426220c4a",
   "metadata": {},
   "source": [
    "# Tuple has unique ways to \"declare\"\n",
    "T1 = (*(x for x in range(1,5),)"
   ]
  },
  {
   "cell_type": "code",
   "execution_count": 10,
   "id": "d1834e40-f176-41e5-819f-9f984cc765cf",
   "metadata": {},
   "outputs": [
    {
     "name": "stdout",
     "output_type": "stream",
     "text": [
      "(1, 2, 3, 4)\n"
     ]
    }
   ],
   "source": [
    "#Tuple has unique way to declare\n",
    "T1 = (*(x for x in range(1,5)),)\n",
    "print (T1)"
   ]
  },
  {
   "cell_type": "code",
   "execution_count": 8,
   "id": "ac9fae51-981e-4e37-9752-544572e2d2ca",
   "metadata": {},
   "outputs": [
    {
     "name": "stdout",
     "output_type": "stream",
     "text": [
      "(4, 5, 6, 7, 8, 9)\n"
     ]
    }
   ],
   "source": [
    "T2 = tuple(x for x in range(4,10))\n",
    "print(T2)"
   ]
  },
  {
   "cell_type": "code",
   "execution_count": 12,
   "id": "4f9e3d93-7483-4f7c-9ecf-4d3a2c94d1e1",
   "metadata": {},
   "outputs": [],
   "source": [
    "T3 = tuple(x**2 for x in range(1,4))"
   ]
  },
  {
   "cell_type": "code",
   "execution_count": 14,
   "id": "a41bcc1b-e602-4f77-9d26-2f04a26c8e63",
   "metadata": {},
   "outputs": [
    {
     "name": "stdout",
     "output_type": "stream",
     "text": [
      "(1, 4, 9)\n"
     ]
    }
   ],
   "source": [
    "print(T3)"
   ]
  },
  {
   "cell_type": "code",
   "execution_count": 16,
   "id": "0d73d9fd-83fa-41b2-b8db-08f38631fb1e",
   "metadata": {},
   "outputs": [],
   "source": [
    "T4=(*(x.lower() for x in 'PytHoN'),)"
   ]
  },
  {
   "cell_type": "code",
   "execution_count": 18,
   "id": "a7e20b65-1b91-4e3a-adab-039c4f2e35fe",
   "metadata": {},
   "outputs": [
    {
     "name": "stdout",
     "output_type": "stream",
     "text": [
      "('p', 'y', 't', 'h', 'o', 'n')\n"
     ]
    }
   ],
   "source": [
    "print(T4)"
   ]
  },
  {
   "cell_type": "code",
   "execution_count": 20,
   "id": "d864d075-5920-4c19-96fb-d9dadabf21f6",
   "metadata": {},
   "outputs": [
    {
     "name": "stdout",
     "output_type": "stream",
     "text": [
      "(1, 2, 3, 4, 5)\n"
     ]
    }
   ],
   "source": [
    "T5 = (*(int(x) for x in '12345'),)\n",
    "print(T5)"
   ]
  },
  {
   "cell_type": "code",
   "execution_count": 22,
   "id": "d7ee9f21-dd76-4160-9f80-c1ce1d782ec2",
   "metadata": {},
   "outputs": [
    {
     "name": "stdout",
     "output_type": "stream",
     "text": [
      "('a', 'q', 'b', 'v')\n"
     ]
    }
   ],
   "source": [
    "T6 = (*(x for x in 'a7^qb*9v' if x.isalpha()),)\n",
    "print(T6)"
   ]
  },
  {
   "cell_type": "code",
   "execution_count": 24,
   "id": "6215d539-d80f-4bfa-9142-73d5b4ddee57",
   "metadata": {},
   "outputs": [],
   "source": [
    "#using index. Can use positive 0,1,2,3,4 or -5, -4, -3, -2, -1  starting at -1 when using reverse\n"
   ]
  },
  {
   "cell_type": "code",
   "execution_count": 32,
   "id": "18b2140b-e9ae-4d60-9ffe-531800d67e17",
   "metadata": {},
   "outputs": [
    {
     "data": {
      "text/plain": [
       "(7, 6, 5)"
      ]
     },
     "execution_count": 32,
     "metadata": {},
     "output_type": "execute_result"
    }
   ],
   "source": [
    "T10 = (1,2,3,4,5,6,7)\n",
    "T10[-1:-4:-1]"
   ]
  },
  {
   "cell_type": "code",
   "execution_count": 34,
   "id": "5e90d14f-ae8f-403b-a6fd-4d8fed7017af",
   "metadata": {},
   "outputs": [
    {
     "data": {
      "text/plain": [
       "(6, 5, 4, 3)"
      ]
     },
     "execution_count": 34,
     "metadata": {},
     "output_type": "execute_result"
    }
   ],
   "source": [
    "T10[5:1:-1]"
   ]
  },
  {
   "cell_type": "code",
   "execution_count": 36,
   "id": "df41ab53-415c-473f-965c-32a0eddbb53f",
   "metadata": {},
   "outputs": [
    {
     "data": {
      "text/plain": [
       "(2, 3, 4, 5, 6, 7)"
      ]
     },
     "execution_count": 36,
     "metadata": {},
     "output_type": "execute_result"
    }
   ],
   "source": [
    "T10[1::]"
   ]
  },
  {
   "cell_type": "code",
   "execution_count": 38,
   "id": "cebcc49f-79a5-40a2-8395-9326e977dfb4",
   "metadata": {},
   "outputs": [
    {
     "name": "stdout",
     "output_type": "stream",
     "text": [
      "(1, 2, 3, 4, 5, 6)\n"
     ]
    }
   ],
   "source": [
    "#concatenation +  repetition *\n",
    "#packing unpacking  packing when you assign multiple values to one variable, it is assigned or created as a tuple\n",
    "T1 = 1,2,3,4,5,6\n",
    "print (T1)"
   ]
  },
  {
   "cell_type": "code",
   "execution_count": 42,
   "id": "61308d6e-607d-47b6-8ca4-e925c6d40d29",
   "metadata": {},
   "outputs": [
    {
     "data": {
      "text/plain": [
       "tuple"
      ]
     },
     "execution_count": 42,
     "metadata": {},
     "output_type": "execute_result"
    }
   ],
   "source": [
    "type(T1)"
   ]
  },
  {
   "cell_type": "code",
   "execution_count": 46,
   "id": "75f4fea1-c207-46b9-940d-8669b078244d",
   "metadata": {},
   "outputs": [],
   "source": [
    "#the above is packing\n",
    "#unpacking\n",
    "a,b,c,d,e,f = T1"
   ]
  },
  {
   "cell_type": "code",
   "execution_count": 48,
   "id": "8a8ed0f2-9ac0-485c-a24b-3b98a27fcaae",
   "metadata": {},
   "outputs": [
    {
     "name": "stdout",
     "output_type": "stream",
     "text": [
      "1 2 3 4 5 6\n"
     ]
    }
   ],
   "source": [
    "print(1,b,c,d,e,f)"
   ]
  },
  {
   "cell_type": "code",
   "execution_count": 50,
   "id": "63ab68c0-1086-468c-98c1-21dd9775f5cf",
   "metadata": {},
   "outputs": [
    {
     "name": "stdout",
     "output_type": "stream",
     "text": [
      "1\n"
     ]
    }
   ],
   "source": [
    "#the tuple was unpacked and assigned to individual variables\n",
    "print(a)"
   ]
  },
  {
   "cell_type": "code",
   "execution_count": 52,
   "id": "26dd283c-48bd-44be-9fd4-5a639b18aa9d",
   "metadata": {},
   "outputs": [],
   "source": [
    "#you must match variable numbers.\n",
    "#unpacking the balance into the last variable with *\n",
    "q,r,*s=T1"
   ]
  },
  {
   "cell_type": "code",
   "execution_count": 54,
   "id": "8a9e0f91-e576-41d6-a79b-95de5a5b28ab",
   "metadata": {},
   "outputs": [
    {
     "name": "stdout",
     "output_type": "stream",
     "text": [
      "1 2 [3, 4, 5, 6]\n"
     ]
    }
   ],
   "source": [
    "print(q,r,s)"
   ]
  },
  {
   "cell_type": "code",
   "execution_count": 56,
   "id": "4facc030-b1cc-49a7-834f-bf09f80667f2",
   "metadata": {},
   "outputs": [
    {
     "data": {
      "text/plain": [
       "int"
      ]
     },
     "execution_count": 56,
     "metadata": {},
     "output_type": "execute_result"
    }
   ],
   "source": [
    "type(c)"
   ]
  },
  {
   "cell_type": "code",
   "execution_count": 58,
   "id": "b9473d24-15e4-40d7-b92e-64b22e419db1",
   "metadata": {},
   "outputs": [
    {
     "data": {
      "text/plain": [
       "list"
      ]
     },
     "execution_count": 58,
     "metadata": {},
     "output_type": "execute_result"
    }
   ],
   "source": [
    "type(s)"
   ]
  },
  {
   "cell_type": "code",
   "execution_count": null,
   "id": "3034f960-b947-422f-941b-6e3818b474e7",
   "metadata": {},
   "outputs": [],
   "source": []
  }
 ],
 "metadata": {
  "kernelspec": {
   "display_name": "Python [conda env:base] *",
   "language": "python",
   "name": "conda-base-py"
  },
  "language_info": {
   "codemirror_mode": {
    "name": "ipython",
    "version": 3
   },
   "file_extension": ".py",
   "mimetype": "text/x-python",
   "name": "python",
   "nbconvert_exporter": "python",
   "pygments_lexer": "ipython3",
   "version": "3.12.7"
  }
 },
 "nbformat": 4,
 "nbformat_minor": 5
}
