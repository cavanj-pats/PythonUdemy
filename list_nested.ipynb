{
 "cells": [
  {
   "cell_type": "code",
   "execution_count": 1,
   "id": "1fecf59a-7b08-4b72-91f8-bd764accaf47",
   "metadata": {},
   "outputs": [],
   "source": [
    "#macbook has a good notebook with list and other content\n"
   ]
  },
  {
   "cell_type": "code",
   "execution_count": 2,
   "id": "a8bf3b71-1e44-4ec6-9e75-7465128d7d55",
   "metadata": {},
   "outputs": [],
   "source": [
    "# this one can be updloaded\n"
   ]
  },
  {
   "cell_type": "code",
   "execution_count": 3,
   "id": "8a0ebadd-80bf-4eba-ba2f-4a3d4613d63c",
   "metadata": {},
   "outputs": [
    {
     "data": {
      "text/plain": [
       "[[1, 2, 3, 4], [5, 6, 7, 8], [9, 10, 11, 12], [13, 14, 15, 16]]"
      ]
     },
     "execution_count": 3,
     "metadata": {},
     "output_type": "execute_result"
    }
   ],
   "source": [
    "#two dimensional matrix\n",
    "M1=[[1,2,3,4],[5,6,7,8],[9,10,11,12],[13,14,15,16]]\n",
    "M1"
   ]
  },
  {
   "cell_type": "code",
   "execution_count": 5,
   "id": "9d7d1eb9-5553-41c7-b46d-5bcd268083f8",
   "metadata": {},
   "outputs": [
    {
     "data": {
      "text/plain": [
       "12"
      ]
     },
     "execution_count": 5,
     "metadata": {},
     "output_type": "execute_result"
    }
   ],
   "source": [
    "M1[2][3]"
   ]
  },
  {
   "cell_type": "code",
   "execution_count": 6,
   "id": "97d0c15d-c4a0-4cf8-994e-ca2ee79e9b88",
   "metadata": {},
   "outputs": [
    {
     "data": {
      "text/plain": [
       "1"
      ]
     },
     "execution_count": 6,
     "metadata": {},
     "output_type": "execute_result"
    }
   ],
   "source": [
    "M1[0][0]"
   ]
  },
  {
   "cell_type": "code",
   "execution_count": 14,
   "id": "02e5e911-12c6-4f8e-a0d0-ad917eab3ecd",
   "metadata": {},
   "outputs": [
    {
     "name": "stdout",
     "output_type": "stream",
     "text": [
      " 1,  2,  3,  4, \n",
      "\n",
      " 5,  6,  7,  8, \n",
      "\n",
      " 9, 10, 11, 12, \n",
      "\n",
      "13, 14, 15, 16, \n",
      "\n"
     ]
    }
   ],
   "source": [
    "for i in range(len(M1)):\n",
    "    for j in range(len(M1[i])):\n",
    "        if(M1[i][j]<10):\n",
    "            print(' ',end='')\n",
    "        print(f\"{M1[i][j]}, \", end='')\n",
    "    print('\\n')"
   ]
  },
  {
   "cell_type": "code",
   "execution_count": 15,
   "id": "8b50979d-1997-46e5-9fa6-0901a210a763",
   "metadata": {},
   "outputs": [
    {
     "name": "stdout",
     "output_type": "stream",
     "text": [
      "10\n"
     ]
    }
   ],
   "source": [
    "list1 = [None]*10\n",
    "print(len(list1))"
   ]
  },
  {
   "cell_type": "code",
   "execution_count": 16,
   "id": "432f7c81-ae64-4768-abc3-a55672d6ffd8",
   "metadata": {},
   "outputs": [
    {
     "data": {
      "text/plain": [
       "['Harry', 'Jackson', 'Jack', 'Peter', 'Bob ']"
      ]
     },
     "execution_count": 16,
     "metadata": {},
     "output_type": "execute_result"
    }
   ],
   "source": [
    "Names = [ 'Bob ' , 'Peter' , 'Jack' , 'Jackson' , 'Harry' ]\n",
    "Names[-1:-6:-1]"
   ]
  },
  {
   "cell_type": "code",
   "execution_count": 17,
   "id": "64d1fcd9-5e0c-428f-a89a-c98f49d339ea",
   "metadata": {},
   "outputs": [],
   "source": [
    "Names.reverse()"
   ]
  },
  {
   "cell_type": "code",
   "execution_count": 18,
   "id": "4508b233-c01e-4170-8fc9-1ee596fe7640",
   "metadata": {},
   "outputs": [
    {
     "data": {
      "text/plain": [
       "['Harry', 'Jackson', 'Jack', 'Peter', 'Bob ']"
      ]
     },
     "execution_count": 18,
     "metadata": {},
     "output_type": "execute_result"
    }
   ],
   "source": [
    "Names"
   ]
  },
  {
   "cell_type": "code",
   "execution_count": 19,
   "id": "8bd430b9-448b-401c-ba62-744cc8ea0405",
   "metadata": {},
   "outputs": [],
   "source": [
    "Names.reverse()"
   ]
  },
  {
   "cell_type": "code",
   "execution_count": 20,
   "id": "4c1bbb91-cc32-4e09-aebb-e6ef64eed06d",
   "metadata": {},
   "outputs": [
    {
     "data": {
      "text/plain": [
       "['Bob ', 'Peter', 'Jack', 'Jackson', 'Harry']"
      ]
     },
     "execution_count": 20,
     "metadata": {},
     "output_type": "execute_result"
    }
   ],
   "source": [
    "Names"
   ]
  },
  {
   "cell_type": "code",
   "execution_count": 22,
   "id": "3fb9f90c-74f3-4a82-ac90-e6fe43e01f9c",
   "metadata": {},
   "outputs": [
    {
     "data": {
      "text/plain": [
       "['Harry', 'Jackson', 'Jack', 'Peter', 'Bob ']"
      ]
     },
     "execution_count": 22,
     "metadata": {},
     "output_type": "execute_result"
    }
   ],
   "source": [
    "Names[::-1]"
   ]
  },
  {
   "cell_type": "code",
   "execution_count": 23,
   "id": "f4484455-e68a-4698-a868-0203702f6af3",
   "metadata": {},
   "outputs": [
    {
     "data": {
      "text/plain": [
       "[]"
      ]
     },
     "execution_count": 23,
     "metadata": {},
     "output_type": "execute_result"
    }
   ],
   "source": [
    "Names[-1:-6:1]"
   ]
  },
  {
   "cell_type": "code",
   "execution_count": 29,
   "id": "75e83eb9-4f3d-453e-8ae3-223540f449ca",
   "metadata": {},
   "outputs": [
    {
     "name": "stdout",
     "output_type": "stream",
     "text": [
      "[1, 2, 1]\n",
      "[1, 2, 1]\n",
      "Palindrome: True\n"
     ]
    }
   ],
   "source": [
    "p1 = [1,2,1]\n",
    "p2 = p1[::-1]\n",
    "print(p1)\n",
    "print(p2)\n",
    "print(f'Palindrome: {p1 == p2}')"
   ]
  },
  {
   "cell_type": "code",
   "execution_count": 30,
   "id": "48cede22-9ac3-4b1b-a591-b5244d893b35",
   "metadata": {},
   "outputs": [],
   "source": [
    "#Reversing a list\n"
   ]
  },
  {
   "cell_type": "code",
   "execution_count": 35,
   "id": "8a81c984-951a-4e39-a061-58112477346f",
   "metadata": {},
   "outputs": [
    {
     "name": "stdout",
     "output_type": "stream",
     "text": [
      "[5, 4, 3, 7, 2, 8, 10, 9, 1, 6]\n"
     ]
    }
   ],
   "source": [
    "h = [1,2,3,4,5,6,7,8,9,10]\n",
    "import random\n",
    "random.shuffle(h)\n",
    "print(h)"
   ]
  },
  {
   "cell_type": "code",
   "execution_count": null,
   "id": "75b322cd-fef9-4b79-967d-5a7ca3e2db42",
   "metadata": {},
   "outputs": [],
   "source": [
    "#shuffle a list"
   ]
  }
 ],
 "metadata": {
  "kernelspec": {
   "display_name": "Python 3 (ipykernel)",
   "language": "python",
   "name": "python3"
  },
  "language_info": {
   "codemirror_mode": {
    "name": "ipython",
    "version": 3
   },
   "file_extension": ".py",
   "mimetype": "text/x-python",
   "name": "python",
   "nbconvert_exporter": "python",
   "pygments_lexer": "ipython3",
   "version": "3.12.7"
  }
 },
 "nbformat": 4,
 "nbformat_minor": 5
}
