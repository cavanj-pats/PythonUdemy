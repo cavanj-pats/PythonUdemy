{
 "cells": [
  {
   "cell_type": "code",
   "execution_count": 1,
   "id": "1fecf59a-7b08-4b72-91f8-bd764accaf47",
   "metadata": {},
   "outputs": [],
   "source": [
    "#macbook has a good notebook with list and other content\n"
   ]
  },
  {
   "cell_type": "code",
   "execution_count": 2,
   "id": "a8bf3b71-1e44-4ec6-9e75-7465128d7d55",
   "metadata": {},
   "outputs": [],
   "source": [
    "# this one can be updloaded\n"
   ]
  },
  {
   "cell_type": "code",
   "execution_count": 3,
   "id": "8a0ebadd-80bf-4eba-ba2f-4a3d4613d63c",
   "metadata": {},
   "outputs": [
    {
     "data": {
      "text/plain": [
       "[[1, 2, 3, 4], [5, 6, 7, 8], [9, 10, 11, 12], [13, 14, 15, 16]]"
      ]
     },
     "execution_count": 3,
     "metadata": {},
     "output_type": "execute_result"
    }
   ],
   "source": [
    "#two dimensional matrix\n",
    "M1=[[1,2,3,4],[5,6,7,8],[9,10,11,12],[13,14,15,16]]\n",
    "M1"
   ]
  },
  {
   "cell_type": "code",
   "execution_count": 5,
   "id": "9d7d1eb9-5553-41c7-b46d-5bcd268083f8",
   "metadata": {},
   "outputs": [
    {
     "data": {
      "text/plain": [
       "12"
      ]
     },
     "execution_count": 5,
     "metadata": {},
     "output_type": "execute_result"
    }
   ],
   "source": [
    "M1[2][3]"
   ]
  },
  {
   "cell_type": "code",
   "execution_count": 6,
   "id": "97d0c15d-c4a0-4cf8-994e-ca2ee79e9b88",
   "metadata": {},
   "outputs": [
    {
     "data": {
      "text/plain": [
       "1"
      ]
     },
     "execution_count": 6,
     "metadata": {},
     "output_type": "execute_result"
    }
   ],
   "source": [
    "M1[0][0]"
   ]
  },
  {
   "cell_type": "code",
   "execution_count": 14,
   "id": "02e5e911-12c6-4f8e-a0d0-ad917eab3ecd",
   "metadata": {},
   "outputs": [
    {
     "name": "stdout",
     "output_type": "stream",
     "text": [
      " 1,  2,  3,  4, \n",
      "\n",
      " 5,  6,  7,  8, \n",
      "\n",
      " 9, 10, 11, 12, \n",
      "\n",
      "13, 14, 15, 16, \n",
      "\n"
     ]
    }
   ],
   "source": [
    "for i in range(len(M1)):\n",
    "    for j in range(len(M1[i])):\n",
    "        if(M1[i][j]<10):\n",
    "            print(' ',end='')\n",
    "        print(f\"{M1[i][j]}, \", end='')\n",
    "    print('\\n')"
   ]
  },
  {
   "cell_type": "code",
   "execution_count": null,
   "id": "8b50979d-1997-46e5-9fa6-0901a210a763",
   "metadata": {},
   "outputs": [],
   "source": []
  }
 ],
 "metadata": {
  "kernelspec": {
   "display_name": "Python 3 (ipykernel)",
   "language": "python",
   "name": "python3"
  },
  "language_info": {
   "codemirror_mode": {
    "name": "ipython",
    "version": 3
   },
   "file_extension": ".py",
   "mimetype": "text/x-python",
   "name": "python",
   "nbconvert_exporter": "python",
   "pygments_lexer": "ipython3",
   "version": "3.13.4"
  }
 },
 "nbformat": 4,
 "nbformat_minor": 5
}
